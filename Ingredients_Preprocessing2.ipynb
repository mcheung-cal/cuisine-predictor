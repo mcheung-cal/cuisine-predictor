{
 "cells": [
  {
   "cell_type": "markdown",
   "metadata": {},
   "source": [
    "## Import all libraries"
   ]
  },
  {
   "cell_type": "code",
   "execution_count": 1,
   "metadata": {},
   "outputs": [],
   "source": [
    "#Import all libraries\n",
    "import numpy as np \n",
    "import pandas as pd\n",
    "import matplotlib.pyplot as plt\n",
    "import math\n",
    "import seaborn as sns\n",
    "import re\n",
    "from collections import Counter\n",
    "import ast\n",
    "from sklearn.preprocessing import LabelEncoder, OneHotEncoder\n",
    "import pandas as pd\n",
    "from sklearn.neural_network import MLPClassifier\n",
    "from sklearn.svm import SVC\n",
    "\n",
    "from sklearn.preprocessing import StandardScaler, MinMaxScaler\n",
    "from sklearn.preprocessing import LabelEncoder, OneHotEncoder\n",
    "from sklearn.feature_extraction import DictVectorizer\n",
    "\n",
    "from sklearn.pipeline import Pipeline\n",
    "from sklearn.metrics import accuracy_score\n",
    "from sklearn.model_selection import train_test_split\n",
    "from sklearn.model_selection import GridSearchCV, ParameterGrid"
   ]
  },
  {
   "cell_type": "markdown",
   "metadata": {},
   "source": [
    "## Import cleaned_recipes file"
   ]
  },
  {
   "cell_type": "code",
   "execution_count": 2,
   "metadata": {},
   "outputs": [],
   "source": [
    "#Import csv; original csv was converted to csv (UTC-8 format)\n",
    "clean = pd.read_csv(\"cleaned_recipes.csv\", low_memory = False)"
   ]
  },
  {
   "cell_type": "markdown",
   "metadata": {},
   "source": [
    "## 1. Format ingredients into list"
   ]
  },
  {
   "cell_type": "code",
   "execution_count": 3,
   "metadata": {},
   "outputs": [],
   "source": [
    "# Convert the entire ingredients column into a usable list such that copy[\"ingredient\"][0][0] is 'winter squash' and not '['\n",
    "\n",
    "copy = clean.copy()\n",
    "copy[\"ingredients\"] = [ast.literal_eval(string) for string in clean[\"ingredients\"]]"
   ]
  },
  {
   "cell_type": "code",
   "execution_count": 5,
   "metadata": {},
   "outputs": [
    {
     "data": {
      "text/plain": [
       "'winter squash'"
      ]
     },
     "execution_count": 5,
     "metadata": {},
     "output_type": "execute_result"
    }
   ],
   "source": [
    "# Sanity check\n",
    "copy[\"ingredients\"][0] # should be a list\n",
    "copy[\"ingredients\"][0][0] # should return a single item 'winter squash'"
   ]
  },
  {
   "cell_type": "code",
   "execution_count": 6,
   "metadata": {},
   "outputs": [],
   "source": [
    "# Convert Series into List\n",
    "ing_lists = list(copy[\"ingredients\"])\n",
    "\n",
    "# Flatten nested lists into one list\n",
    "flattened = [val for sublist in ing_lists for val in sublist]"
   ]
  },
  {
   "cell_type": "markdown",
   "metadata": {},
   "source": [
    "## 2. One-Hot Encode the Ingredients List"
   ]
  },
  {
   "cell_type": "code",
   "execution_count": 7,
   "metadata": {},
   "outputs": [
    {
     "name": "stdout",
     "output_type": "stream",
     "text": [
      "There are 11195 unique ingredients.\n"
     ]
    }
   ],
   "source": [
    "# Reshape ingredients column into 1D\n",
    "ings_count = len(Counter(flattened))\n",
    "print(\"There are\", ings_count, \"unique ingredients.\")\n",
    "\n",
    "## How to one hot encode against these unique ingredients??\n",
    "# one-hot encode\n",
    "\n",
    "from sklearn.preprocessing import MultiLabelBinarizer\n",
    "\n",
    "mlb = MultiLabelBinarizer(sparse_output=True)\n",
    "\n",
    "X = copy\n",
    "X = X.join(pd.DataFrame.sparse.from_spmatrix(\n",
    "                mlb.fit_transform(X.pop('ingredients')),\n",
    "                index=X.index,\n",
    "                columns=mlb.classes_))\n"
   ]
  },
  {
   "cell_type": "code",
   "execution_count": null,
   "metadata": {},
   "outputs": [],
   "source": [
    "X.head(5)"
   ]
  },
  {
   "cell_type": "code",
   "execution_count": null,
   "metadata": {},
   "outputs": [],
   "source": [
    "features = X.loc[:, X.columns != \"cuisine\"]\n",
    "Y = X[\"cuisine\"]\n",
    "features.head()"
   ]
  },
  {
   "cell_type": "code",
   "execution_count": null,
   "metadata": {},
   "outputs": [],
   "source": [
    "X.iloc[:, 20]"
   ]
  },
  {
   "cell_type": "code",
   "execution_count": null,
   "metadata": {},
   "outputs": [],
   "source": [
    "'1% fat cottage cheese'"
   ]
  },
  {
   "cell_type": "code",
   "execution_count": 8,
   "metadata": {},
   "outputs": [],
   "source": [
    "X.columns[20:]\n",
    "def col_cleaner(df):\n",
    "    for i in X.columns[20:]:\n",
    "        if sum(df[i]) == 1:\n",
    "            df.drop(i, axis = 1)"
   ]
  },
  {
   "cell_type": "code",
   "execution_count": null,
   "metadata": {},
   "outputs": [],
   "source": [
    "test = copy.copy()\n",
    "col_cleaner(X.iloc[:, 20:])"
   ]
  },
  {
   "cell_type": "code",
   "execution_count": null,
   "metadata": {},
   "outputs": [],
   "source": [
    "features = copy.loc[:, copy.columns != \"cuisine\"]\n",
    "Y = copy[\"cuisine\"]\n",
    "features.head()\n",
    "\n",
    "clf = MLPClassifier(hidden_layer_sizes=(10), max_iter=100, activation='logistic',\n",
    "                     solver='lbfgs', verbose=1,  random_state=42)  \n",
    "clf.fit(clean,Y)\n",
    "print('Accuracy on training---')\n",
    "y_pred_train2c=clf_2c.predict(X_train2c)\n",
    "print(accuracy_score(Y_train2c,y_pred_train2c))"
   ]
  },
  {
   "cell_type": "code",
   "execution_count": null,
   "metadata": {},
   "outputs": [],
   "source": [
    "X.iloc[:, 20:]"
   ]
  },
  {
   "cell_type": "code",
   "execution_count": null,
   "metadata": {},
   "outputs": [],
   "source": [
    "clean.describe()"
   ]
  },
  {
   "cell_type": "code",
   "execution_count": null,
   "metadata": {},
   "outputs": [],
   "source": []
  }
 ],
 "metadata": {
  "kernelspec": {
   "display_name": "Python 3",
   "language": "python",
   "name": "python3"
  },
  "language_info": {
   "codemirror_mode": {
    "name": "ipython",
    "version": 3
   },
   "file_extension": ".py",
   "mimetype": "text/x-python",
   "name": "python",
   "nbconvert_exporter": "python",
   "pygments_lexer": "ipython3",
   "version": "3.7.6"
  }
 },
 "nbformat": 4,
 "nbformat_minor": 4
}
